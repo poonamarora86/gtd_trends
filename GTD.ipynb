{
 "cells": [
  {
   "cell_type": "code",
   "execution_count": null,
   "metadata": {},
   "outputs": [],
   "source": [
    "import pandas as pd\n",
    "pd.set_option('display.float_format', lambda x: '%.3f' % x)\n",
    "\n",
    "import numpy as np\n",
    "from math import pi\n",
    "\n",
    "from bokeh.layouts import gridplot, row, column, widgetbox\n",
    "from bokeh.plotting import figure, show, output_file, output_notebook\n",
    "from bokeh.models import ColumnDataSource, HoverTool, BasicTicker, ColorBar, ColumnDataSource, LinearColorMapper, PrintfTickFormatter, Slider\n",
    "from bokeh.plotting import figure\n",
    "from bokeh.transform import dodge, transform, cumsum\n",
    "from bokeh.io import export_png, curdoc\n",
    "from bokeh.models import Range1d\n",
    "from bokeh.palettes import Category20c, Inferno256, Category10"
   ]
  },
  {
   "cell_type": "code",
   "execution_count": null,
   "metadata": {},
   "outputs": [],
   "source": [
    "# GTD = pd.read_excel(\"Datasets/GTD_Dataset.xlsx\")\n",
    "# GTD.shape"
   ]
  },
  {
   "cell_type": "code",
   "execution_count": null,
   "metadata": {},
   "outputs": [],
   "source": [
    "# GTD.head()"
   ]
  },
  {
   "cell_type": "code",
   "execution_count": null,
   "metadata": {},
   "outputs": [],
   "source": [
    "# GTD.to_pickle(\"Datasets/GTD_Dataset.pkl\")"
   ]
  },
  {
   "cell_type": "code",
   "execution_count": 22,
   "metadata": {},
   "outputs": [
    {
     "data": {
      "text/plain": [
       "(191464, 135)"
      ]
     },
     "execution_count": 22,
     "metadata": {},
     "output_type": "execute_result"
    }
   ],
   "source": [
    "GTD_full = pd.read_pickle(\"Datasets/GTD_Dataset.pkl\")\n",
    "GTD_full.shape"
   ]
  },
  {
   "cell_type": "code",
   "execution_count": 6,
   "metadata": {},
   "outputs": [
    {
     "data": {
      "text/plain": [
       "(186129, 135)"
      ]
     },
     "execution_count": 6,
     "metadata": {},
     "output_type": "execute_result"
    }
   ],
   "source": [
    "GTD = GTD_full[GTD_full.country_txt != 'United Kingdom']\n",
    "GTD.shape"
   ]
  },
  {
   "cell_type": "code",
   "execution_count": 7,
   "metadata": {},
   "outputs": [
    {
     "name": "stdout",
     "output_type": "stream",
     "text": [
      "431570.0 543616.0\n"
     ]
    }
   ],
   "source": [
    "print(GTD.nkill.sum(),GTD.nwound.sum()) "
   ]
  },
  {
   "cell_type": "code",
   "execution_count": 8,
   "metadata": {},
   "outputs": [
    {
     "data": {
      "text/plain": [
       "(5335, 135)"
      ]
     },
     "execution_count": 8,
     "metadata": {},
     "output_type": "execute_result"
    }
   ],
   "source": [
    "UK = GTD_full[GTD_full.country_txt == 'United Kingdom']\n",
    "UK.shape"
   ]
  },
  {
   "cell_type": "code",
   "execution_count": 9,
   "metadata": {},
   "outputs": [
    {
     "name": "stdout",
     "output_type": "stream",
     "text": [
      "3411.0 6138.0\n"
     ]
    }
   ],
   "source": [
    "print(UK.nkill.sum(),UK.nwound.sum()) "
   ]
  },
  {
   "cell_type": "code",
   "execution_count": null,
   "metadata": {},
   "outputs": [],
   "source": []
  },
  {
   "cell_type": "code",
   "execution_count": 10,
   "metadata": {},
   "outputs": [],
   "source": [
    "# for col in GTD.columns:\n",
    "#     print(col)"
   ]
  },
  {
   "cell_type": "code",
   "execution_count": 11,
   "metadata": {},
   "outputs": [],
   "source": [
    "# len(GTD.eventid.unique())"
   ]
  },
  {
   "cell_type": "markdown",
   "metadata": {},
   "source": [
    "### Yearwise distribution of events"
   ]
  },
  {
   "cell_type": "code",
   "execution_count": 12,
   "metadata": {},
   "outputs": [
    {
     "data": {
      "text/html": [
       "<div>\n",
       "<style scoped>\n",
       "    .dataframe tbody tr th:only-of-type {\n",
       "        vertical-align: middle;\n",
       "    }\n",
       "\n",
       "    .dataframe tbody tr th {\n",
       "        vertical-align: top;\n",
       "    }\n",
       "\n",
       "    .dataframe thead th {\n",
       "        text-align: right;\n",
       "    }\n",
       "</style>\n",
       "<table border=\"1\" class=\"dataframe\">\n",
       "  <thead>\n",
       "    <tr style=\"text-align: right;\">\n",
       "      <th></th>\n",
       "      <th>Year</th>\n",
       "      <th>Attacks</th>\n",
       "      <th>Formatted_Date</th>\n",
       "    </tr>\n",
       "  </thead>\n",
       "  <tbody>\n",
       "    <tr>\n",
       "      <td>0</td>\n",
       "      <td>1970</td>\n",
       "      <td>6.460</td>\n",
       "      <td>1970-01-01</td>\n",
       "    </tr>\n",
       "    <tr>\n",
       "      <td>1</td>\n",
       "      <td>1971</td>\n",
       "      <td>5.966</td>\n",
       "      <td>1971-01-01</td>\n",
       "    </tr>\n",
       "    <tr>\n",
       "      <td>2</td>\n",
       "      <td>1972</td>\n",
       "      <td>5.620</td>\n",
       "      <td>1972-01-01</td>\n",
       "    </tr>\n",
       "    <tr>\n",
       "      <td>3</td>\n",
       "      <td>1973</td>\n",
       "      <td>5.649</td>\n",
       "      <td>1973-01-01</td>\n",
       "    </tr>\n",
       "    <tr>\n",
       "      <td>4</td>\n",
       "      <td>1974</td>\n",
       "      <td>5.935</td>\n",
       "      <td>1974-01-01</td>\n",
       "    </tr>\n",
       "  </tbody>\n",
       "</table>\n",
       "</div>"
      ],
      "text/plain": [
       "   Year  Attacks Formatted_Date\n",
       "0  1970    6.460     1970-01-01\n",
       "1  1971    5.966     1971-01-01\n",
       "2  1972    5.620     1972-01-01\n",
       "3  1973    5.649     1973-01-01\n",
       "4  1974    5.935     1974-01-01"
      ]
     },
     "execution_count": 12,
     "metadata": {},
     "output_type": "execute_result"
    }
   ],
   "source": [
    "Yearly_events_G = GTD.groupby([\"iyear\"]).count()['eventid'].reset_index()\n",
    "Yearly_events_G= Yearly_events_G.rename(columns = {'iyear' : 'Year',\n",
    "                                                  'eventid' : 'Attacks'})\n",
    "Yearly_events_G = Yearly_events_G.sort_values(by=['Year'], ascending = True )\n",
    "Yearly_events_G['Formatted_Date'] = pd.to_datetime(Yearly_events_G.Year, format='%Y')\n",
    "Yearly_events_G['Attacks'] = np.log(Yearly_events_G['Attacks'])\n",
    "Yearly_events_G.head()"
   ]
  },
  {
   "cell_type": "code",
   "execution_count": 13,
   "metadata": {},
   "outputs": [
    {
     "data": {
      "text/html": [
       "<div>\n",
       "<style scoped>\n",
       "    .dataframe tbody tr th:only-of-type {\n",
       "        vertical-align: middle;\n",
       "    }\n",
       "\n",
       "    .dataframe tbody tr th {\n",
       "        vertical-align: top;\n",
       "    }\n",
       "\n",
       "    .dataframe thead th {\n",
       "        text-align: right;\n",
       "    }\n",
       "</style>\n",
       "<table border=\"1\" class=\"dataframe\">\n",
       "  <thead>\n",
       "    <tr style=\"text-align: right;\">\n",
       "      <th></th>\n",
       "      <th>Year</th>\n",
       "      <th>Attacks_UK</th>\n",
       "      <th>Formatted_Date</th>\n",
       "    </tr>\n",
       "  </thead>\n",
       "  <tbody>\n",
       "    <tr>\n",
       "      <td>0</td>\n",
       "      <td>1970</td>\n",
       "      <td>2.485</td>\n",
       "      <td>1970-01-01</td>\n",
       "    </tr>\n",
       "    <tr>\n",
       "      <td>1</td>\n",
       "      <td>1971</td>\n",
       "      <td>4.394</td>\n",
       "      <td>1971-01-01</td>\n",
       "    </tr>\n",
       "    <tr>\n",
       "      <td>2</td>\n",
       "      <td>1972</td>\n",
       "      <td>5.677</td>\n",
       "      <td>1972-01-01</td>\n",
       "    </tr>\n",
       "    <tr>\n",
       "      <td>3</td>\n",
       "      <td>1973</td>\n",
       "      <td>5.242</td>\n",
       "      <td>1973-01-01</td>\n",
       "    </tr>\n",
       "    <tr>\n",
       "      <td>4</td>\n",
       "      <td>1974</td>\n",
       "      <td>5.313</td>\n",
       "      <td>1974-01-01</td>\n",
       "    </tr>\n",
       "  </tbody>\n",
       "</table>\n",
       "</div>"
      ],
      "text/plain": [
       "   Year  Attacks_UK Formatted_Date\n",
       "0  1970       2.485     1970-01-01\n",
       "1  1971       4.394     1971-01-01\n",
       "2  1972       5.677     1972-01-01\n",
       "3  1973       5.242     1973-01-01\n",
       "4  1974       5.313     1974-01-01"
      ]
     },
     "execution_count": 13,
     "metadata": {},
     "output_type": "execute_result"
    }
   ],
   "source": [
    "Yearly_events_UK = UK.groupby([\"iyear\"]).count()['eventid'].reset_index()\n",
    "Yearly_events_UK= Yearly_events_UK.rename(columns = {'iyear' : 'Year',\n",
    "                                                    'eventid' : 'Attacks_UK'})\n",
    "Yearly_events_UK = Yearly_events_UK.sort_values(by=['Year'], ascending = True )\n",
    "Yearly_events_UK['Formatted_Date'] = pd.to_datetime(Yearly_events_UK.Year, format='%Y')\n",
    "Yearly_events_UK['Attacks_UK'] = np.log(Yearly_events_UK['Attacks_UK'])\n",
    "Yearly_events_UK.head()"
   ]
  },
  {
   "cell_type": "code",
   "execution_count": 14,
   "metadata": {},
   "outputs": [
    {
     "data": {
      "text/html": [
       "<div>\n",
       "<style scoped>\n",
       "    .dataframe tbody tr th:only-of-type {\n",
       "        vertical-align: middle;\n",
       "    }\n",
       "\n",
       "    .dataframe tbody tr th {\n",
       "        vertical-align: top;\n",
       "    }\n",
       "\n",
       "    .dataframe thead th {\n",
       "        text-align: right;\n",
       "    }\n",
       "</style>\n",
       "<table border=\"1\" class=\"dataframe\">\n",
       "  <thead>\n",
       "    <tr style=\"text-align: right;\">\n",
       "      <th></th>\n",
       "      <th>Year</th>\n",
       "      <th>Attacks</th>\n",
       "      <th>Attacks_UK</th>\n",
       "      <th>Formatted_Date_x</th>\n",
       "    </tr>\n",
       "  </thead>\n",
       "  <tbody>\n",
       "    <tr>\n",
       "      <td>0</td>\n",
       "      <td>1970</td>\n",
       "      <td>6.460</td>\n",
       "      <td>2.485</td>\n",
       "      <td>1970-01-01</td>\n",
       "    </tr>\n",
       "    <tr>\n",
       "      <td>1</td>\n",
       "      <td>1971</td>\n",
       "      <td>5.966</td>\n",
       "      <td>4.394</td>\n",
       "      <td>1971-01-01</td>\n",
       "    </tr>\n",
       "    <tr>\n",
       "      <td>2</td>\n",
       "      <td>1972</td>\n",
       "      <td>5.620</td>\n",
       "      <td>5.677</td>\n",
       "      <td>1972-01-01</td>\n",
       "    </tr>\n",
       "    <tr>\n",
       "      <td>3</td>\n",
       "      <td>1973</td>\n",
       "      <td>5.649</td>\n",
       "      <td>5.242</td>\n",
       "      <td>1973-01-01</td>\n",
       "    </tr>\n",
       "    <tr>\n",
       "      <td>4</td>\n",
       "      <td>1974</td>\n",
       "      <td>5.935</td>\n",
       "      <td>5.313</td>\n",
       "      <td>1974-01-01</td>\n",
       "    </tr>\n",
       "  </tbody>\n",
       "</table>\n",
       "</div>"
      ],
      "text/plain": [
       "   Year  Attacks  Attacks_UK Formatted_Date_x\n",
       "0  1970    6.460       2.485       1970-01-01\n",
       "1  1971    5.966       4.394       1971-01-01\n",
       "2  1972    5.620       5.677       1972-01-01\n",
       "3  1973    5.649       5.242       1973-01-01\n",
       "4  1974    5.935       5.313       1974-01-01"
      ]
     },
     "execution_count": 14,
     "metadata": {},
     "output_type": "execute_result"
    }
   ],
   "source": [
    "merged = Yearly_events_G.merge(Yearly_events_UK, left_on = 'Year', right_on = 'Year', how= 'inner')\n",
    "merged = merged [['Year','Attacks', 'Attacks_UK', 'Formatted_Date_x']]\n",
    "merged.head()"
   ]
  },
  {
   "cell_type": "code",
   "execution_count": 15,
   "metadata": {},
   "outputs": [],
   "source": [
    "src = ColumnDataSource(merged)\n",
    "# src_G.data.keys()\n",
    "\n",
    "output_file(\"/Users/poonamarora/Desktop/Aleph/Pictures/html/Terrorism_over_the_years.html\")\n",
    "p1 = figure(x_axis_type=\"datetime\", title=\"\")\n",
    "p1.grid.grid_line_alpha=0.3\n",
    "p1.xaxis.axis_label = 'Year'\n",
    "p1.yaxis.axis_label = 'Number of Terrorist Events (Log scaled)'\n",
    "p1.y_range = Range1d(0,10)\n",
    "\n",
    "p1.line('Formatted_Date_x', 'Attacks', line_color='red', source = src, legend = 'Global', line_width = 2.0)\n",
    "p1.line('Formatted_Date_x', 'Attacks_UK', line_color='green', source = src, legend = 'UK', line_width = 2.0)\n",
    "\n",
    "p1.axis.major_label_text_font_size = \"7pt\"\n",
    "p1.legend.label_text_font_size = \"9pt\"\n",
    "p1.legend.location = 'top_left'\n",
    "hover = HoverTool(tooltips = [\n",
    "    ('Year', '@Year'),\n",
    "    ('Global Events', '@Attacks'),\n",
    "    ('United Kingdom', '@Attacks_UK')])\n",
    "p1.add_tools(hover)\n",
    "show(p1)"
   ]
  },
  {
   "cell_type": "code",
   "execution_count": null,
   "metadata": {},
   "outputs": [],
   "source": []
  },
  {
   "cell_type": "code",
   "execution_count": null,
   "metadata": {},
   "outputs": [],
   "source": []
  },
  {
   "cell_type": "markdown",
   "metadata": {},
   "source": [
    "### Regionwise distribution of events"
   ]
  },
  {
   "cell_type": "code",
   "execution_count": null,
   "metadata": {},
   "outputs": [],
   "source": [
    "Region_wise_events = GTD.groupby([\"iyear\", \"region_txt\"]).count()['eventid'].reset_index()\n",
    "Region_wise_events= Region_wise_events.rename(columns = {'iyear' : 'Year',\n",
    "                                                         'region_txt' :'Region',\n",
    "                                                          'eventid' : 'Attacks'})\n",
    "Region_wise_events = Region_wise_events.sort_values(by=['Year'], ascending = True )\n",
    "Region_wise_events['Formatted_Date'] = pd.to_datetime(Region_wise_events.Year, format='%Y')\n",
    "Region_wise_events = pd.pivot_table(Region_wise_events, values='Attacks', index=['Year', 'Formatted_Date'],\n",
    "                    columns=['Region'], aggfunc=np.sum).reset_index()\n",
    "Region_wise_events = Region_wise_events.fillna(0)\n",
    "Region_wise_events.head()"
   ]
  },
  {
   "cell_type": "code",
   "execution_count": null,
   "metadata": {},
   "outputs": [],
   "source": [
    "Region_wise_events.columns"
   ]
  },
  {
   "cell_type": "code",
   "execution_count": null,
   "metadata": {},
   "outputs": [],
   "source": [
    "from bokeh.palettes import Inferno10, Spectral6\n",
    "src_R = ColumnDataSource(Region_wise_events)\n",
    "\n",
    "output_file(\"/Users/poonamarora/Desktop/Aleph/Pictures/html/Regionwise.html\")\n",
    "p2 = figure(x_axis_type=\"datetime\", title=\"Terrorism activities over the years(1970-2018) in different regions\")\n",
    "p2.grid.grid_line_alpha=0.3\n",
    "p2.xaxis.axis_label = 'Year'\n",
    "p2.yaxis.axis_label = 'Number of Terrorist Events'\n",
    "\n",
    "\n",
    "p2.line('Formatted_Date', 'Australasia & Oceania', line_color='#081d58', source = src_R, legend = '1.Australasia & Oceania')\n",
    "p2.line('Formatted_Date', 'Central America & Caribbean', line_color='#253494', source = src_R, legend = '2.Central America & Caribbean')\n",
    "p2.line('Formatted_Date', 'Central Asia', line_color='#225ea8', source = src_R, legend = '3.Central Asia')\n",
    "p2.line('Formatted_Date', 'East Asia', line_color='#1d91c0', source = src_R, legend = '4.East Asia')\n",
    "p2.line('Formatted_Date', 'Eastern Europe', line_color='#41b6c4', source = src_R, legend = '5.Eastern Europe')\n",
    "p2.line('Formatted_Date', 'Middle East & North Africa', line_color='red', source = src_R, legend = '6.Middle East & North Africa', line_width = 2.0)\n",
    "p2.line('Formatted_Date', 'North America', line_color='#c7e9b4', source = src_R, legend = '7.North America')\n",
    "p2.line('Formatted_Date', 'South America', line_color='#edf8b1', source = src_R, legend = '8.South America')\n",
    "p2.line('Formatted_Date', 'South Asia', line_color='green', source = src_R, legend = '9.South Asia', line_width = 2.0)\n",
    "p2.line('Formatted_Date', 'Southeast Asia', line_color='#CD4247', source = src_R, legend = '10.Southeast Asia')\n",
    "p2.line('Formatted_Date', 'Sub-Saharan Africa', line_color='blue', source = src_R, legend = '11.Sub-Saharan Africa', line_width = 2.0)\n",
    "p2.line('Formatted_Date', 'Western Europe', line_color='#000003', source = src_R, legend = '12.Western Europe')\n",
    "\n",
    "p2.legend.label_text_font_size = \"9pt\"\n",
    "p2.legend.click_policy='hide'\n",
    "p2.legend.location = \"top_left\"\n",
    "p2.axis.major_label_text_font_size = \"7pt\"\n",
    "hover = HoverTool(tooltips = [('Year', '@Year')])\n",
    "p2.add_tools(hover)\n",
    "\n",
    "show(p2)"
   ]
  },
  {
   "cell_type": "markdown",
   "metadata": {},
   "source": [
    "### Total events and fatalities in region"
   ]
  },
  {
   "cell_type": "code",
   "execution_count": 24,
   "metadata": {},
   "outputs": [
    {
     "data": {
      "text/html": [
       "<div>\n",
       "<style scoped>\n",
       "    .dataframe tbody tr th:only-of-type {\n",
       "        vertical-align: middle;\n",
       "    }\n",
       "\n",
       "    .dataframe tbody tr th {\n",
       "        vertical-align: top;\n",
       "    }\n",
       "\n",
       "    .dataframe thead th {\n",
       "        text-align: right;\n",
       "    }\n",
       "</style>\n",
       "<table border=\"1\" class=\"dataframe\">\n",
       "  <thead>\n",
       "    <tr style=\"text-align: right;\">\n",
       "      <th></th>\n",
       "      <th>Region</th>\n",
       "      <th>Attacks</th>\n",
       "      <th>Fatalities</th>\n",
       "      <th>Wounded</th>\n",
       "      <th>Attacks_Percent</th>\n",
       "      <th>Fatalities_Percent</th>\n",
       "      <th>Wounded_Percent</th>\n",
       "    </tr>\n",
       "  </thead>\n",
       "  <tbody>\n",
       "    <tr>\n",
       "      <td>0</td>\n",
       "      <td>Australasia &amp; Oceania</td>\n",
       "      <td>304</td>\n",
       "      <td>152.000</td>\n",
       "      <td>263.000</td>\n",
       "      <td>0.163</td>\n",
       "      <td>0.035</td>\n",
       "      <td>0.048</td>\n",
       "    </tr>\n",
       "    <tr>\n",
       "      <td>1</td>\n",
       "      <td>Central America &amp; Caribbean</td>\n",
       "      <td>10359</td>\n",
       "      <td>28717.000</td>\n",
       "      <td>9013.000</td>\n",
       "      <td>5.565</td>\n",
       "      <td>6.654</td>\n",
       "      <td>1.658</td>\n",
       "    </tr>\n",
       "    <tr>\n",
       "      <td>2</td>\n",
       "      <td>Central Asia</td>\n",
       "      <td>571</td>\n",
       "      <td>1035.000</td>\n",
       "      <td>2019.000</td>\n",
       "      <td>0.307</td>\n",
       "      <td>0.240</td>\n",
       "      <td>0.371</td>\n",
       "    </tr>\n",
       "    <tr>\n",
       "      <td>3</td>\n",
       "      <td>East Asia</td>\n",
       "      <td>808</td>\n",
       "      <td>1154.000</td>\n",
       "      <td>9215.000</td>\n",
       "      <td>0.434</td>\n",
       "      <td>0.267</td>\n",
       "      <td>1.695</td>\n",
       "    </tr>\n",
       "    <tr>\n",
       "      <td>4</td>\n",
       "      <td>Eastern Europe</td>\n",
       "      <td>5217</td>\n",
       "      <td>7457.000</td>\n",
       "      <td>12097.000</td>\n",
       "      <td>2.803</td>\n",
       "      <td>1.728</td>\n",
       "      <td>2.225</td>\n",
       "    </tr>\n",
       "    <tr>\n",
       "      <td>5</td>\n",
       "      <td>Middle East &amp; North Africa</td>\n",
       "      <td>53110</td>\n",
       "      <td>142214.000</td>\n",
       "      <td>219609.000</td>\n",
       "      <td>28.534</td>\n",
       "      <td>32.953</td>\n",
       "      <td>40.398</td>\n",
       "    </tr>\n",
       "    <tr>\n",
       "      <td>6</td>\n",
       "      <td>North America</td>\n",
       "      <td>3579</td>\n",
       "      <td>5017.000</td>\n",
       "      <td>27042.000</td>\n",
       "      <td>1.923</td>\n",
       "      <td>1.162</td>\n",
       "      <td>4.974</td>\n",
       "    </tr>\n",
       "    <tr>\n",
       "      <td>7</td>\n",
       "      <td>South America</td>\n",
       "      <td>19292</td>\n",
       "      <td>29052.000</td>\n",
       "      <td>17060.000</td>\n",
       "      <td>10.365</td>\n",
       "      <td>6.732</td>\n",
       "      <td>3.138</td>\n",
       "    </tr>\n",
       "    <tr>\n",
       "      <td>8</td>\n",
       "      <td>South Asia</td>\n",
       "      <td>48266</td>\n",
       "      <td>112263.000</td>\n",
       "      <td>151199.000</td>\n",
       "      <td>25.931</td>\n",
       "      <td>26.013</td>\n",
       "      <td>27.814</td>\n",
       "    </tr>\n",
       "    <tr>\n",
       "      <td>9</td>\n",
       "      <td>Southeast Asia</td>\n",
       "      <td>13363</td>\n",
       "      <td>16257.000</td>\n",
       "      <td>27164.000</td>\n",
       "      <td>7.179</td>\n",
       "      <td>3.767</td>\n",
       "      <td>4.997</td>\n",
       "    </tr>\n",
       "    <tr>\n",
       "      <td>10</td>\n",
       "      <td>Sub-Saharan Africa</td>\n",
       "      <td>19752</td>\n",
       "      <td>85020.000</td>\n",
       "      <td>56630.000</td>\n",
       "      <td>10.612</td>\n",
       "      <td>19.700</td>\n",
       "      <td>10.417</td>\n",
       "    </tr>\n",
       "    <tr>\n",
       "      <td>11</td>\n",
       "      <td>Western Europe</td>\n",
       "      <td>11508</td>\n",
       "      <td>3232.000</td>\n",
       "      <td>12305.000</td>\n",
       "      <td>6.183</td>\n",
       "      <td>0.749</td>\n",
       "      <td>2.264</td>\n",
       "    </tr>\n",
       "  </tbody>\n",
       "</table>\n",
       "</div>"
      ],
      "text/plain": [
       "                         Region  Attacks  Fatalities    Wounded  \\\n",
       "0   Australasia & Oceania        304     152.000     263.000      \n",
       "1   Central America & Caribbean  10359   28717.000   9013.000     \n",
       "2   Central Asia                 571     1035.000    2019.000     \n",
       "3   East Asia                    808     1154.000    9215.000     \n",
       "4   Eastern Europe               5217    7457.000    12097.000    \n",
       "5   Middle East & North Africa   53110   142214.000  219609.000   \n",
       "6   North America                3579    5017.000    27042.000    \n",
       "7   South America                19292   29052.000   17060.000    \n",
       "8   South Asia                   48266   112263.000  151199.000   \n",
       "9   Southeast Asia               13363   16257.000   27164.000    \n",
       "10  Sub-Saharan Africa           19752   85020.000   56630.000    \n",
       "11  Western Europe               11508   3232.000    12305.000    \n",
       "\n",
       "    Attacks_Percent  Fatalities_Percent  Wounded_Percent  \n",
       "0  0.163            0.035               0.048             \n",
       "1  5.565            6.654               1.658             \n",
       "2  0.307            0.240               0.371             \n",
       "3  0.434            0.267               1.695             \n",
       "4  2.803            1.728               2.225             \n",
       "5  28.534           32.953              40.398            \n",
       "6  1.923            1.162               4.974             \n",
       "7  10.365           6.732               3.138             \n",
       "8  25.931           26.013              27.814            \n",
       "9  7.179            3.767               4.997             \n",
       "10 10.612           19.700              10.417            \n",
       "11 6.183            0.749               2.264             "
      ]
     },
     "execution_count": 24,
     "metadata": {},
     "output_type": "execute_result"
    }
   ],
   "source": [
    "Casualities = GTD.groupby(\"region_txt\").agg({'eventid' :'count', 'nkill' : 'sum', 'nwound' : 'sum'}).reset_index()\n",
    "Casualities = Casualities.rename(columns = {'region_txt' : 'Region',\n",
    "                                            'eventid' : 'Attacks',\n",
    "                                            'nkill' : 'Fatalities',\n",
    "                                            'nwound' : 'Wounded'})\n",
    "Casualities['Attacks_Percent'] = Casualities['Attacks']*100/Casualities['Attacks'].sum()\n",
    "Casualities['Fatalities_Percent'] = Casualities['Fatalities']*100/Casualities['Fatalities'].sum()\n",
    "Casualities['Wounded_Percent'] = Casualities['Wounded']*100/Casualities['Wounded'].sum()\n",
    "Casualities\n"
   ]
  },
  {
   "cell_type": "code",
   "execution_count": 25,
   "metadata": {},
   "outputs": [
    {
     "data": {
      "text/html": [
       "<div>\n",
       "<style scoped>\n",
       "    .dataframe tbody tr th:only-of-type {\n",
       "        vertical-align: middle;\n",
       "    }\n",
       "\n",
       "    .dataframe tbody tr th {\n",
       "        vertical-align: top;\n",
       "    }\n",
       "\n",
       "    .dataframe thead th {\n",
       "        text-align: right;\n",
       "    }\n",
       "</style>\n",
       "<table border=\"1\" class=\"dataframe\">\n",
       "  <thead>\n",
       "    <tr style=\"text-align: right;\">\n",
       "      <th></th>\n",
       "      <th>Region</th>\n",
       "      <th>Attacks</th>\n",
       "      <th>Fatalities</th>\n",
       "      <th>Wounded</th>\n",
       "      <th>Attacks_Percent</th>\n",
       "      <th>Fatalities_Percent</th>\n",
       "      <th>Wounded_Percent</th>\n",
       "    </tr>\n",
       "  </thead>\n",
       "  <tbody>\n",
       "    <tr>\n",
       "      <td>5</td>\n",
       "      <td>Middle East &amp; North Africa</td>\n",
       "      <td>53110</td>\n",
       "      <td>142214.000</td>\n",
       "      <td>219609.000</td>\n",
       "      <td>28.534</td>\n",
       "      <td>32.953</td>\n",
       "      <td>40.398</td>\n",
       "    </tr>\n",
       "    <tr>\n",
       "      <td>8</td>\n",
       "      <td>South Asia</td>\n",
       "      <td>48266</td>\n",
       "      <td>112263.000</td>\n",
       "      <td>151199.000</td>\n",
       "      <td>25.931</td>\n",
       "      <td>26.013</td>\n",
       "      <td>27.814</td>\n",
       "    </tr>\n",
       "    <tr>\n",
       "      <td>10</td>\n",
       "      <td>Sub-Saharan Africa</td>\n",
       "      <td>19752</td>\n",
       "      <td>85020.000</td>\n",
       "      <td>56630.000</td>\n",
       "      <td>10.612</td>\n",
       "      <td>19.700</td>\n",
       "      <td>10.417</td>\n",
       "    </tr>\n",
       "    <tr>\n",
       "      <td>7</td>\n",
       "      <td>South America</td>\n",
       "      <td>19292</td>\n",
       "      <td>29052.000</td>\n",
       "      <td>17060.000</td>\n",
       "      <td>10.365</td>\n",
       "      <td>6.732</td>\n",
       "      <td>3.138</td>\n",
       "    </tr>\n",
       "    <tr>\n",
       "      <td>9</td>\n",
       "      <td>Southeast Asia</td>\n",
       "      <td>13363</td>\n",
       "      <td>16257.000</td>\n",
       "      <td>27164.000</td>\n",
       "      <td>7.179</td>\n",
       "      <td>3.767</td>\n",
       "      <td>4.997</td>\n",
       "    </tr>\n",
       "    <tr>\n",
       "      <td>11</td>\n",
       "      <td>Western Europe</td>\n",
       "      <td>11508</td>\n",
       "      <td>3232.000</td>\n",
       "      <td>12305.000</td>\n",
       "      <td>6.183</td>\n",
       "      <td>0.749</td>\n",
       "      <td>2.264</td>\n",
       "    </tr>\n",
       "    <tr>\n",
       "      <td>1</td>\n",
       "      <td>Central America &amp; Caribbean</td>\n",
       "      <td>10359</td>\n",
       "      <td>28717.000</td>\n",
       "      <td>9013.000</td>\n",
       "      <td>5.565</td>\n",
       "      <td>6.654</td>\n",
       "      <td>1.658</td>\n",
       "    </tr>\n",
       "    <tr>\n",
       "      <td>4</td>\n",
       "      <td>Eastern Europe</td>\n",
       "      <td>5217</td>\n",
       "      <td>7457.000</td>\n",
       "      <td>12097.000</td>\n",
       "      <td>2.803</td>\n",
       "      <td>1.728</td>\n",
       "      <td>2.225</td>\n",
       "    </tr>\n",
       "    <tr>\n",
       "      <td>6</td>\n",
       "      <td>North America</td>\n",
       "      <td>3579</td>\n",
       "      <td>5017.000</td>\n",
       "      <td>27042.000</td>\n",
       "      <td>1.923</td>\n",
       "      <td>1.162</td>\n",
       "      <td>4.974</td>\n",
       "    </tr>\n",
       "    <tr>\n",
       "      <td>3</td>\n",
       "      <td>East Asia</td>\n",
       "      <td>808</td>\n",
       "      <td>1154.000</td>\n",
       "      <td>9215.000</td>\n",
       "      <td>0.434</td>\n",
       "      <td>0.267</td>\n",
       "      <td>1.695</td>\n",
       "    </tr>\n",
       "    <tr>\n",
       "      <td>2</td>\n",
       "      <td>Central Asia</td>\n",
       "      <td>571</td>\n",
       "      <td>1035.000</td>\n",
       "      <td>2019.000</td>\n",
       "      <td>0.307</td>\n",
       "      <td>0.240</td>\n",
       "      <td>0.371</td>\n",
       "    </tr>\n",
       "    <tr>\n",
       "      <td>0</td>\n",
       "      <td>Australasia &amp; Oceania</td>\n",
       "      <td>304</td>\n",
       "      <td>152.000</td>\n",
       "      <td>263.000</td>\n",
       "      <td>0.163</td>\n",
       "      <td>0.035</td>\n",
       "      <td>0.048</td>\n",
       "    </tr>\n",
       "  </tbody>\n",
       "</table>\n",
       "</div>"
      ],
      "text/plain": [
       "                         Region  Attacks  Fatalities    Wounded  \\\n",
       "5   Middle East & North Africa   53110   142214.000  219609.000   \n",
       "8   South Asia                   48266   112263.000  151199.000   \n",
       "10  Sub-Saharan Africa           19752   85020.000   56630.000    \n",
       "7   South America                19292   29052.000   17060.000    \n",
       "9   Southeast Asia               13363   16257.000   27164.000    \n",
       "11  Western Europe               11508   3232.000    12305.000    \n",
       "1   Central America & Caribbean  10359   28717.000   9013.000     \n",
       "4   Eastern Europe               5217    7457.000    12097.000    \n",
       "6   North America                3579    5017.000    27042.000    \n",
       "3   East Asia                    808     1154.000    9215.000     \n",
       "2   Central Asia                 571     1035.000    2019.000     \n",
       "0   Australasia & Oceania        304     152.000     263.000      \n",
       "\n",
       "    Attacks_Percent  Fatalities_Percent  Wounded_Percent  \n",
       "5  28.534           32.953              40.398            \n",
       "8  25.931           26.013              27.814            \n",
       "10 10.612           19.700              10.417            \n",
       "7  10.365           6.732               3.138             \n",
       "9  7.179            3.767               4.997             \n",
       "11 6.183            0.749               2.264             \n",
       "1  5.565            6.654               1.658             \n",
       "4  2.803            1.728               2.225             \n",
       "6  1.923            1.162               4.974             \n",
       "3  0.434            0.267               1.695             \n",
       "2  0.307            0.240               0.371             \n",
       "0  0.163            0.035               0.048             "
      ]
     },
     "execution_count": 25,
     "metadata": {},
     "output_type": "execute_result"
    }
   ],
   "source": [
    "  Casualities.sort_values(by=['Attacks_Percent', 'Fatalities_Percent', 'Wounded_Percent'], ascending=False)\n"
   ]
  },
  {
   "cell_type": "code",
   "execution_count": null,
   "metadata": {},
   "outputs": [],
   "source": [
    "source = ColumnDataSource(data=Casualities)\n",
    "Region = source.data['Region'].tolist()\n",
    "\n",
    "output_file(\"/Users/poonamarora/Desktop/Aleph/Pictures/html/Fatalities_And_Wounded.html\")\n",
    "\n",
    "p3 = figure(x_range=Region, y_range=(0, 45), plot_height=350, title=\"Total incidents,Casualties and Injured %age in different Regions (1970-2018)\")\n",
    "\n",
    "p3.vbar(x=dodge('Region', -0.25, range=p3.x_range), top='Attacks_Percent', width=0.2, source=source,\n",
    "       color=\"darkturquoise\", legend=\"Total Incidents\")\n",
    "\n",
    "p3.vbar(x=dodge('Region',  0.01,  range=p3.x_range), top='Fatalities_Percent', width=0.2, source=source,\n",
    "       color=\"indianred\", legend=\"Casualities\")\n",
    "\n",
    "p3.vbar(x=dodge('Region',  0.27,  range=p3.x_range), top='Wounded_Percent', width=0.2, source=source,\n",
    "       color=\"forestgreen\", legend=\"Injured\")\n",
    "\n",
    "# p3.xaxis.axis_label = 'Region'\n",
    "p3.yaxis.axis_label = 'Percentage'\n",
    "\n",
    "p3.x_range.range_padding = 0.1\n",
    "p3.xgrid.grid_line_color = None\n",
    "p3.legend.location = \"top_left\"\n",
    "p3.legend.orientation = \"vertical\"\n",
    "p3.xaxis.major_label_orientation = math.pi/4\n",
    "p3.axis.major_label_text_font_size = \"7pt\"\n",
    "p3.legend.label_text_font_size = \"9pt\"\n",
    "\n",
    "hover = HoverTool(tooltips = [('Terrorist Incidents', '@Attacks_Percent%'),\n",
    "                             ('Casualties', '@Fatalities_Percent'),\n",
    "                             ('Injured', '@Wounded_Percent')])\n",
    "p3.add_tools(hover)\n",
    "show(p3)"
   ]
  },
  {
   "cell_type": "markdown",
   "metadata": {},
   "source": [
    "### Explore more terror attack prone regions"
   ]
  },
  {
   "cell_type": "code",
   "execution_count": null,
   "metadata": {},
   "outputs": [],
   "source": [
    "MENA = GTD[GTD['region_txt'] == 'Middle East & North Africa']\n",
    "MENA.shape"
   ]
  },
  {
   "cell_type": "code",
   "execution_count": null,
   "metadata": {},
   "outputs": [],
   "source": [
    "len(MENA['country_txt'].unique())"
   ]
  },
  {
   "cell_type": "code",
   "execution_count": null,
   "metadata": {},
   "outputs": [],
   "source": [
    "MENA.groupby('country_txt').count()['eventid']"
   ]
  },
  {
   "cell_type": "code",
   "execution_count": null,
   "metadata": {},
   "outputs": [],
   "source": [
    "MN_country = MENA.groupby(['country_txt']).agg({'eventid' :'count', 'nkill' : 'sum', 'nwound' : 'sum'}).reset_index()\n",
    "MN_country= MN_country.rename(columns = {'country_txt' : 'Country',\n",
    "                                        'eventid' : 'Attacks',\n",
    "                                        'nkill' : 'Fatalities',\n",
    "                                        'nwound' : 'Wounded'})\n",
    "MN_country['MN_Attacks_Percent'] = MN_country['Attacks']*100/MN_country['Attacks'].sum()\n",
    "MN_country['MN_Fatalities_Percent'] = MN_country['Fatalities']*100/MN_country['Fatalities'].sum()\n",
    "MN_country['MN_Wounded_Percent'] = MN_country['Wounded']*100/MN_country['Wounded'].sum()\n",
    "\n",
    "MN_country = MN_country[MN_country.MN_Attacks_Percent>3.0]\n",
    "MN_country"
   ]
  },
  {
   "cell_type": "code",
   "execution_count": null,
   "metadata": {},
   "outputs": [],
   "source": [
    "source_MN = ColumnDataSource(data=MN_country)\n",
    "MN_Country = source_MN.data['Country'].tolist()\n",
    "# MN_Country\n",
    "\n",
    "p4 = figure(x_range=MN_Country, y_range=(0, 65), plot_height=350, title=\"Terrorist events, Casualties and Injuries in Middle East and North Africa\")\n",
    "\n",
    "output_file(\"/Users/poonamarora/Desktop/Aleph/Pictures/html/Middle_East_and_North_Africa over the years.html\")\n",
    "\n",
    "p4.vbar(x=dodge('Country', -0.25, range=p4.x_range), top='MN_Attacks_Percent', width=0.2, source=source_MN,\n",
    "       color=\"darkturquoise\", legend=\"Total Incidents\")\n",
    "\n",
    "p4.vbar(x=dodge('Country',  0.01,  range=p4.x_range), top='MN_Fatalities_Percent', width=0.2, source=source_MN,\n",
    "       color=\"indianred\", legend=\"Casualities\")\n",
    "\n",
    "p4.vbar(x=dodge('Country',  0.27,  range=p4.x_range), top='MN_Wounded_Percent', width=0.2, source=source_MN,\n",
    "       color=\"forestgreen\", legend=\"Injured\")\n",
    "\n",
    "# p3.xaxis.axis_label = 'Region'\n",
    "p4.yaxis.axis_label = 'Percentage'\n",
    "\n",
    "p4.x_range.range_padding = 0.1\n",
    "p4.xgrid.grid_line_color = None\n",
    "p4.legend.location = \"top_left\"\n",
    "p4.legend.orientation = \"vertical\"\n",
    "p4.xaxis.major_label_orientation = math.pi/4\n",
    "p4.axis.major_label_text_font_size = \"7pt\"\n",
    "p4.legend.label_text_font_size = \"9pt\"\n",
    "\n",
    "hover = HoverTool(tooltips = [('Terrorist Incidents', '@MN_Attacks_Percent%'),\n",
    "                             ('Casualties', '@MN_Fatalities_Percent'),\n",
    "                             ('Injured', '@MN_Wounded_Percent')])\n",
    "p4.add_tools(hover)\n",
    "show(p4)"
   ]
  },
  {
   "cell_type": "markdown",
   "metadata": {},
   "source": [
    "### Exploring South Asia"
   ]
  },
  {
   "cell_type": "code",
   "execution_count": null,
   "metadata": {},
   "outputs": [],
   "source": [
    "South_Asia = GTD[GTD['region_txt'] == 'South Asia']\n",
    "South_Asia.shape"
   ]
  },
  {
   "cell_type": "code",
   "execution_count": null,
   "metadata": {},
   "outputs": [],
   "source": [
    "len(South_Asia['country_txt'].unique())"
   ]
  },
  {
   "cell_type": "code",
   "execution_count": null,
   "metadata": {},
   "outputs": [],
   "source": [
    "SA_country = South_Asia.groupby(['country_txt']).agg({'eventid' :'count', 'nkill' : 'sum', 'nwound':'sum'}).reset_index()\n",
    "SA_country= SA_country.rename(columns = {'country_txt' : 'Country',\n",
    "                                        'eventid' : 'Attacks',\n",
    "                                        'nkill' : 'Fatalities',\n",
    "                                        'nwound' : 'Wounded'})\n",
    "SA_country['SA_Attacks_Percent'] = SA_country['Attacks']*100/SA_country['Attacks'].sum()\n",
    "SA_country['SA_Fatalities_Percent'] = SA_country['Fatalities']*100/SA_country['Fatalities'].sum()\n",
    "SA_country['SA_Wounded_Percent'] = SA_country['Wounded']*100/SA_country['Wounded'].sum()\n",
    "\n",
    "SA_country"
   ]
  },
  {
   "cell_type": "code",
   "execution_count": null,
   "metadata": {},
   "outputs": [],
   "source": [
    "source_SA = ColumnDataSource(data=SA_country)\n",
    "SA_Country = source_SA.data['Country'].tolist()\n",
    "\n",
    "p5 = figure(x_range=SA_Country, y_range=(0, 45), plot_height=350, title=\"Terrorist events, Casualties and Injuries in South Asia\")\n",
    "\n",
    "output_file(\"/Users/poonamarora/Desktop/Aleph/Pictures/html/South_Asia.html\")\n",
    "\n",
    "p5.vbar(x=dodge('Country', -0.25, range=p5.x_range), top='SA_Attacks_Percent', width=0.2, source=source_SA,\n",
    "       color=\"darkturquoise\", legend=\"Total Incidents\")\n",
    "\n",
    "p5.vbar(x=dodge('Country',  0.01,  range=p5.x_range), top='SA_Fatalities_Percent', width=0.2, source=source_SA,\n",
    "       color=\"indianred\", legend=\"Casualities\")\n",
    "\n",
    "p5.vbar(x=dodge('Country',  0.27,  range=p5.x_range), top='SA_Wounded_Percent', width=0.2, source=source_SA,\n",
    "       color=\"forestgreen\", legend=\"Injured\")\n",
    "\n",
    "p5.x_range.range_padding = 0.1\n",
    "p5.xgrid.grid_line_color = None\n",
    "p5.legend.location = \"top_right\"\n",
    "p5.legend.orientation = \"vertical\"\n",
    "p5.xaxis.major_label_orientation = math.pi/4\n",
    "p5.axis.major_label_text_font_size = \"7pt\"\n",
    "p5.legend.label_text_font_size = \"9pt\"\n",
    "p5.yaxis.axis_label = 'Percentage'\n",
    "\n",
    "hover = HoverTool(tooltips = [('Terrorist Events', '@SA_Attacks_Percent%'),\n",
    "                             ('Casualties', '@SA_Fatalities_Percent%'),\n",
    "                             ('Injured', '@SA_Wounded_Percent%')])\n",
    "p5.add_tools(hover)\n",
    "show(p5)"
   ]
  },
  {
   "cell_type": "markdown",
   "metadata": {},
   "source": [
    "### Exploring sub saharan africa"
   ]
  },
  {
   "cell_type": "code",
   "execution_count": null,
   "metadata": {},
   "outputs": [],
   "source": [
    "SubSaharan_Africa = GTD[GTD['region_txt'] == 'Sub-Saharan Africa']\n",
    "SubSaharan_Africa.shape"
   ]
  },
  {
   "cell_type": "code",
   "execution_count": null,
   "metadata": {},
   "outputs": [],
   "source": [
    "len(SubSaharan_Africa['country_txt'].unique())"
   ]
  },
  {
   "cell_type": "code",
   "execution_count": null,
   "metadata": {},
   "outputs": [],
   "source": [
    "SSA_country = SubSaharan_Africa.groupby('country_txt').agg({'eventid':'count', 'nkill': 'sum', 'nwound':'sum'}).reset_index()\n",
    "SSA_country= SSA_country.rename(columns = {'country_txt' : 'Country',\n",
    "                                        'eventid' : 'Attacks',\n",
    "                                        'nkill' : 'Fatalities',\n",
    "                                          'nwound' : 'Wounded'})\n",
    "SSA_country['SSA_Attacks_Percent'] = SSA_country['Attacks']*100/SSA_country['Attacks'].sum()\n",
    "SSA_country['SSA_Fatalities_Percent'] = SSA_country['Fatalities']*100/SSA_country['Fatalities'].sum()\n",
    "SSA_country['SSA_Wounded_Percent'] = SSA_country['Wounded']*100/SSA_country['Wounded'].sum()\n",
    "\n",
    "SSA_country"
   ]
  },
  {
   "cell_type": "code",
   "execution_count": null,
   "metadata": {},
   "outputs": [],
   "source": [
    "SSA_country = SSA_country[SSA_country['SSA_Attacks_Percent'] >= 3.0]"
   ]
  },
  {
   "cell_type": "code",
   "execution_count": null,
   "metadata": {},
   "outputs": [],
   "source": [
    "SSA_country"
   ]
  },
  {
   "cell_type": "code",
   "execution_count": null,
   "metadata": {},
   "outputs": [],
   "source": [
    "source_SSA = ColumnDataSource(data=SSA_country)\n",
    "SSA_country = source_SSA.data['Country'].tolist()\n",
    "\n",
    "p6 = figure(x_range=SSA_country, y_range=(0, 35), plot_height=350, title=\"Terrorist events, Casualties and Injuries in Sub Saharan Africa\")\n",
    "\n",
    "output_file(\"/Users/poonamarora/Desktop/Aleph/Pictures/html/Sub_Saharan_Africa.html\")\n",
    "\n",
    "p6.vbar(x=dodge('Country', -0.25, range=p6.x_range), top='SSA_Attacks_Percent', width=0.2, source=source_SSA,\n",
    "       color=\"darkturquoise\", legend=\"Total Incidents\")\n",
    "\n",
    "p6.vbar(x=dodge('Country',  0.01,  range=p6.x_range), top='SSA_Fatalities_Percent', width=0.2, source=source_SSA,\n",
    "       color=\"indianred\", legend=\"Casualties\")\n",
    "\n",
    "p6.vbar(x=dodge('Country',  0.27,  range=p6.x_range), top='SSA_Wounded_Percent', width=0.2, source=source_SSA,\n",
    "       color=\"forestgreen\", legend=\"Injured\")\n",
    "\n",
    "\n",
    "p6.x_range.range_padding = 0.1\n",
    "p6.xgrid.grid_line_color = None\n",
    "p6.legend.location = \"top_right\"\n",
    "p6.legend.orientation = \"vertical\"\n",
    "p6.xaxis.major_label_orientation = math.pi/4\n",
    "p6.axis.major_label_text_font_size = \"7pt\"\n",
    "p6.legend.label_text_font_size = \"9pt\"\n",
    "p6.yaxis.axis_label = 'Percentage'\n",
    "hover = HoverTool(tooltips = [('Terrorist Events', '@SSA_Attacks_Percent%'),\n",
    "                             ('Casualties', '@SSA_Fatalities_Percent%'),\n",
    "                             ('Injured', '@SSA_Wounded_Percent%')])\n",
    "p6.add_tools(hover)\n",
    "show(p6)"
   ]
  },
  {
   "cell_type": "markdown",
   "metadata": {},
   "source": [
    "### Attack type distribution - Global and UK"
   ]
  },
  {
   "cell_type": "code",
   "execution_count": 23,
   "metadata": {},
   "outputs": [
    {
     "data": {
      "text/html": [
       "<div>\n",
       "<style scoped>\n",
       "    .dataframe tbody tr th:only-of-type {\n",
       "        vertical-align: middle;\n",
       "    }\n",
       "\n",
       "    .dataframe tbody tr th {\n",
       "        vertical-align: top;\n",
       "    }\n",
       "\n",
       "    .dataframe thead th {\n",
       "        text-align: right;\n",
       "    }\n",
       "</style>\n",
       "<table border=\"1\" class=\"dataframe\">\n",
       "  <thead>\n",
       "    <tr style=\"text-align: right;\">\n",
       "      <th></th>\n",
       "      <th>AttackType</th>\n",
       "      <th>Attacks</th>\n",
       "      <th>Fatalities</th>\n",
       "      <th>Wounded</th>\n",
       "      <th>Attacks_Percent</th>\n",
       "      <th>angle</th>\n",
       "      <th>color</th>\n",
       "      <th>Fatalities_Percent</th>\n",
       "      <th>Wounded_Percent</th>\n",
       "    </tr>\n",
       "  </thead>\n",
       "  <tbody>\n",
       "    <tr>\n",
       "      <td>0</td>\n",
       "      <td>Armed Assault</td>\n",
       "      <td>707</td>\n",
       "      <td>424.000</td>\n",
       "      <td>488.000</td>\n",
       "      <td>13.252</td>\n",
       "      <td>0.833</td>\n",
       "      <td>#3182bd</td>\n",
       "      <td>12.430</td>\n",
       "      <td>7.950</td>\n",
       "    </tr>\n",
       "    <tr>\n",
       "      <td>1</td>\n",
       "      <td>Assassination</td>\n",
       "      <td>1653</td>\n",
       "      <td>1587.000</td>\n",
       "      <td>269.000</td>\n",
       "      <td>30.984</td>\n",
       "      <td>1.947</td>\n",
       "      <td>#6baed6</td>\n",
       "      <td>46.526</td>\n",
       "      <td>4.383</td>\n",
       "    </tr>\n",
       "    <tr>\n",
       "      <td>2</td>\n",
       "      <td>Bombing/Explosion</td>\n",
       "      <td>2115</td>\n",
       "      <td>1309.000</td>\n",
       "      <td>5214.000</td>\n",
       "      <td>39.644</td>\n",
       "      <td>2.491</td>\n",
       "      <td>#9ecae1</td>\n",
       "      <td>38.376</td>\n",
       "      <td>84.946</td>\n",
       "    </tr>\n",
       "    <tr>\n",
       "      <td>3</td>\n",
       "      <td>Facility/Infrastructure Attack</td>\n",
       "      <td>683</td>\n",
       "      <td>10.000</td>\n",
       "      <td>60.000</td>\n",
       "      <td>12.802</td>\n",
       "      <td>0.804</td>\n",
       "      <td>#c6dbef</td>\n",
       "      <td>0.293</td>\n",
       "      <td>0.978</td>\n",
       "    </tr>\n",
       "    <tr>\n",
       "      <td>4</td>\n",
       "      <td>Hijacking</td>\n",
       "      <td>20</td>\n",
       "      <td>2.000</td>\n",
       "      <td>1.000</td>\n",
       "      <td>0.375</td>\n",
       "      <td>0.024</td>\n",
       "      <td>#e6550d</td>\n",
       "      <td>0.059</td>\n",
       "      <td>0.016</td>\n",
       "    </tr>\n",
       "    <tr>\n",
       "      <td>5</td>\n",
       "      <td>Hostage Taking (Barricade Incident)</td>\n",
       "      <td>14</td>\n",
       "      <td>9.000</td>\n",
       "      <td>7.000</td>\n",
       "      <td>0.262</td>\n",
       "      <td>0.016</td>\n",
       "      <td>#fd8d3c</td>\n",
       "      <td>0.264</td>\n",
       "      <td>0.114</td>\n",
       "    </tr>\n",
       "    <tr>\n",
       "      <td>6</td>\n",
       "      <td>Hostage Taking (Kidnapping)</td>\n",
       "      <td>53</td>\n",
       "      <td>38.000</td>\n",
       "      <td>11.000</td>\n",
       "      <td>0.993</td>\n",
       "      <td>0.062</td>\n",
       "      <td>#fdae6b</td>\n",
       "      <td>1.114</td>\n",
       "      <td>0.179</td>\n",
       "    </tr>\n",
       "    <tr>\n",
       "      <td>7</td>\n",
       "      <td>Unarmed Assault</td>\n",
       "      <td>50</td>\n",
       "      <td>15.000</td>\n",
       "      <td>52.000</td>\n",
       "      <td>0.937</td>\n",
       "      <td>0.059</td>\n",
       "      <td>#fdd0a2</td>\n",
       "      <td>0.440</td>\n",
       "      <td>0.847</td>\n",
       "    </tr>\n",
       "    <tr>\n",
       "      <td>8</td>\n",
       "      <td>Unknown</td>\n",
       "      <td>40</td>\n",
       "      <td>17.000</td>\n",
       "      <td>36.000</td>\n",
       "      <td>0.750</td>\n",
       "      <td>0.047</td>\n",
       "      <td>#31a354</td>\n",
       "      <td>0.498</td>\n",
       "      <td>0.587</td>\n",
       "    </tr>\n",
       "  </tbody>\n",
       "</table>\n",
       "</div>"
      ],
      "text/plain": [
       "                            AttackType  Attacks  Fatalities  Wounded  \\\n",
       "0  Armed Assault                        707     424.000     488.000    \n",
       "1  Assassination                        1653    1587.000    269.000    \n",
       "2  Bombing/Explosion                    2115    1309.000    5214.000   \n",
       "3  Facility/Infrastructure Attack       683     10.000      60.000     \n",
       "4  Hijacking                            20      2.000       1.000      \n",
       "5  Hostage Taking (Barricade Incident)  14      9.000       7.000      \n",
       "6  Hostage Taking (Kidnapping)          53      38.000      11.000     \n",
       "7  Unarmed Assault                      50      15.000      52.000     \n",
       "8  Unknown                              40      17.000      36.000     \n",
       "\n",
       "   Attacks_Percent  angle    color  Fatalities_Percent  Wounded_Percent  \n",
       "0 13.252           0.833   #3182bd 12.430              7.950             \n",
       "1 30.984           1.947   #6baed6 46.526              4.383             \n",
       "2 39.644           2.491   #9ecae1 38.376              84.946            \n",
       "3 12.802           0.804   #c6dbef 0.293               0.978             \n",
       "4 0.375            0.024   #e6550d 0.059               0.016             \n",
       "5 0.262            0.016   #fd8d3c 0.264               0.114             \n",
       "6 0.993            0.062   #fdae6b 1.114               0.179             \n",
       "7 0.937            0.059   #fdd0a2 0.440               0.847             \n",
       "8 0.750            0.047   #31a354 0.498               0.587             "
      ]
     },
     "execution_count": 23,
     "metadata": {},
     "output_type": "execute_result"
    }
   ],
   "source": [
    "ATT = UK.groupby('attacktype1_txt').agg({'eventid':'count', 'nkill' :'sum', 'nwound' : 'sum'}).reset_index()\n",
    "ATT = ATT.rename(columns= {'attacktype1_txt' : 'AttackType',\n",
    "                          'eventid' :'Attacks',\n",
    "                          'nkill' : 'Fatalities',\n",
    "                          'nwound' : 'Wounded'})\n",
    "ATT['Attacks_Percent'] = ATT['Attacks']*100/ATT['Attacks'].sum()\n",
    "ATT['angle'] = ATT['Attacks_Percent']/ATT['Attacks_Percent'].sum() * 2*pi\n",
    "x=ATT['AttackType'].value_counts()\n",
    "ATT['color'] = Category20c[len(x)]\n",
    "ATT['Fatalities_Percent'] = ATT['Fatalities']*100/ATT['Fatalities'].sum()\n",
    "ATT['Wounded_Percent'] = ATT['Wounded']*100/ATT['Wounded'].sum()\n",
    "\n",
    "\n",
    "ATT"
   ]
  },
  {
   "cell_type": "code",
   "execution_count": null,
   "metadata": {},
   "outputs": [],
   "source": [
    "output_file(\"/Users/poonamarora/Desktop/Aleph/Pictures/html/AttackTypes.html\")\n",
    "\n",
    "p7 = figure(plot_height=550, toolbar_location=None,\n",
    "           tools=\"hover\", tooltips=\"@AttackType: @Attacks_Percent{0.2f} %\", x_range=(-.5, .5),\n",
    "           title = \"Types of Attacks globally over the uear(1970-2018)\")\n",
    "\n",
    "p7.annular_wedge(x=0, y=1,  inner_radius=0.15, outer_radius=0.25, direction=\"anticlock\",\n",
    "                start_angle=cumsum('angle', include_zero=True), end_angle=cumsum('angle'),\n",
    "        line_color=\"white\", fill_color='color', legend='AttackType',source=ATT)\n",
    "\n",
    "p7.legend.label_text_font_size = \"4.4pt\"\n",
    "p7.axis.axis_label=None\n",
    "p7.axis.visible=False\n",
    "p7.grid.grid_line_color = None\n",
    "p7.legend.location = \"top_left\"\n",
    "p7.legend.orientation = \"vertical\"\n",
    "p7.legend.click_policy='mute'\n",
    "show(p7) "
   ]
  },
  {
   "cell_type": "code",
   "execution_count": null,
   "metadata": {},
   "outputs": [],
   "source": []
  },
  {
   "cell_type": "code",
   "execution_count": null,
   "metadata": {},
   "outputs": [],
   "source": [
    "ATT = UK.groupby(['attacktype1_txt', 'iyear']).agg({'eventid':'count', 'nkill' :'sum', 'nwound' : 'sum'}).reset_index()\n",
    "ATT = ATT.rename(columns= {'iyear':'Year',\n",
    "                           'attacktype1_txt' : 'AttackType',\n",
    "                          'eventid' :'Attacks',\n",
    "                          'nkill' : 'Fatalities',\n",
    "                          'nwound' : 'Wounded'})\n",
    "ATT['Attacks_Percent'] = ATT['Attacks']*100/ATT['Attacks'].sum()\n",
    "ATT['angle'] = ATT['Attacks_Percent']/ATT['Attacks_Percent'].sum() * 2*pi\n",
    "x=ATT['AttackType'].value_counts()\n",
    "ATT['color'] = Category20c[len(x)]\n",
    "ATT['Fatalities_Percent'] = ATT['Fatalities']*100/ATT['Fatalities'].sum()\n",
    "ATT['Wounded_Percent'] = ATT['Wounded']*100/ATT['Wounded'].sum()\n",
    "\n",
    "\n",
    "ATT"
   ]
  },
  {
   "cell_type": "code",
   "execution_count": null,
   "metadata": {},
   "outputs": [],
   "source": []
  },
  {
   "cell_type": "code",
   "execution_count": null,
   "metadata": {},
   "outputs": [],
   "source": []
  },
  {
   "cell_type": "code",
   "execution_count": null,
   "metadata": {},
   "outputs": [],
   "source": []
  },
  {
   "cell_type": "code",
   "execution_count": null,
   "metadata": {},
   "outputs": [],
   "source": []
  },
  {
   "cell_type": "markdown",
   "metadata": {},
   "source": [
    "### Target type distribution"
   ]
  },
  {
   "cell_type": "code",
   "execution_count": null,
   "metadata": {},
   "outputs": [],
   "source": [
    "TT = UK.groupby('targtype1_txt').agg({'eventid':'count', 'nkill' :'sum', 'nwound' : 'sum'}).reset_index()\n",
    "TT = TT.rename(columns= {'targtype1_txt' : 'TargetType',\n",
    "                        'eventid' :'Attacks',\n",
    "                          'nkill' : 'Fatalities',\n",
    "                          'nwound' : 'Wounded'})\n",
    "TT['Attacks_Percent'] = TT['Attacks']*100/TT['Attacks'].sum()\n",
    "TT = TT[TT.Attacks_Percent > 2.0]\n",
    "TT['angle'] = TT['Attacks_Percent']/TT['Attacks_Percent'].sum() * 2*pi\n",
    "x=TT['TargetType'].value_counts()\n",
    "TT['color'] = Category20c[len(x)]\n",
    "TT['Fatalities_Percent'] = TT['Fatalities']*100/TT['Fatalities'].sum()\n",
    "TT['Wounded_Percent'] = TT['Wounded']*100/TT['Wounded'].sum()\n",
    "TT"
   ]
  },
  {
   "cell_type": "code",
   "execution_count": null,
   "metadata": {},
   "outputs": [],
   "source": [
    "output_file(\"/Users/poonamarora/Desktop/Aleph/Pictures/html/TargetTypes.html\")\n",
    "\n",
    "p8 = figure(plot_height=550, toolbar_location=None,\n",
    "           tools=\"hover\", tooltips=\"@TargetType: @Attacks_Percent{0.2f} %\", x_range=(-.5, .5),\n",
    "           title = \"Types of Targets globally over the uear(1970-2018)\")\n",
    "\n",
    "p8.annular_wedge(x=0, y=1,  inner_radius=0.15, outer_radius=0.25, direction=\"anticlock\",\n",
    "                start_angle=cumsum('angle', include_zero=True), end_angle=cumsum('angle'),\n",
    "        line_color=\"white\", fill_color='color', legend='TargetType',source=TT, alpha =0.8)\n",
    "\n",
    "p8.legend.label_text_font_size = \"5.3pt\"\n",
    "p8.axis.axis_label=None\n",
    "p8.axis.visible=False\n",
    "p8.grid.grid_line_color = None\n",
    "p8.legend.location = \"top_left\"\n",
    "p8.legend.orientation = \"vertical\"\n",
    "p8.legend.click_policy='mute'\n",
    "show(p8) "
   ]
  },
  {
   "cell_type": "code",
   "execution_count": null,
   "metadata": {},
   "outputs": [],
   "source": []
  },
  {
   "cell_type": "markdown",
   "metadata": {},
   "source": [
    "### Weapon type distribution"
   ]
  },
  {
   "cell_type": "code",
   "execution_count": null,
   "metadata": {},
   "outputs": [],
   "source": [
    "WT = GTD.groupby('weaptype1_txt').agg({'eventid':'count', 'nkill' :'sum', 'nwound' : 'sum'}).reset_index()\n",
    "WT = WT.rename(columns= {'weaptype1_txt' : 'WeaponType',\n",
    "                        'eventid' :'Attacks',\n",
    "                         'nkill' : 'Fatalities',\n",
    "                          'nwound' : 'Wounded'})\n",
    "WT['Attacks_Percent'] = WT['Attacks']*100/WT['Attacks'].sum()\n",
    "WT = WT[WT.Attacks_Percent > 2.0]\n",
    "WT['angle'] = WT['Attacks_Percent']/WT['Attacks_Percent'].sum() * 2*pi\n",
    "x=WT['WeaponType'].value_counts()\n",
    "WT['color'] = Category10[len(x)]\n",
    "WT['Fatalities_Percent'] = WT['Fatalities']*100/WT['Fatalities'].sum()\n",
    "WT['Wounded_Percent'] = WT['Wounded']*100/WT['Wounded'].sum()\n",
    "WT"
   ]
  },
  {
   "cell_type": "code",
   "execution_count": null,
   "metadata": {},
   "outputs": [],
   "source": [
    "output_file(\"/Users/poonamarora/Desktop/Aleph/Pictures/html/WeaponTypes.html\")\n",
    "\n",
    "p9 = figure(plot_height=550, toolbar_location=None,\n",
    "           tools=\"hover\", tooltips=\"@WeaponType: @Attacks_Percent{0.2f} %\", x_range=(-.5, .5),\n",
    "           title = \"Types of Weapons used globally over the uear(1970-2018)\")\n",
    "\n",
    "p9.annular_wedge(x=0, y=1,  inner_radius=0.15, outer_radius=0.25, direction=\"anticlock\",\n",
    "                start_angle=cumsum('angle', include_zero=True), end_angle=cumsum('angle'),\n",
    "        line_color=\"white\", fill_color='color', legend='WeaponType',source=WT, alpha =0.6)\n",
    "\n",
    "p9.legend.label_text_font_size = \"5.3pt\"\n",
    "p9.axis.axis_label=None\n",
    "p9.axis.visible=False\n",
    "p9.grid.grid_line_color = None\n",
    "p9.legend.location = \"top_left\"\n",
    "p9.legend.orientation = \"vertical\"\n",
    "p9.legend.click_policy='mute'\n",
    "show(p9) "
   ]
  },
  {
   "cell_type": "markdown",
   "metadata": {},
   "source": [
    "### Property Damage"
   ]
  },
  {
   "cell_type": "code",
   "execution_count": 16,
   "metadata": {},
   "outputs": [
    {
     "data": {
      "text/plain": [
       "(96750, 135)"
      ]
     },
     "execution_count": 16,
     "metadata": {},
     "output_type": "execute_result"
    }
   ],
   "source": [
    "prop = GTD_full[GTD_full.property == 1]\n",
    "prop.shape"
   ]
  },
  {
   "cell_type": "code",
   "execution_count": 17,
   "metadata": {},
   "outputs": [
    {
     "data": {
      "text/plain": [
       "0.505316926419588"
      ]
     },
     "execution_count": 17,
     "metadata": {},
     "output_type": "execute_result"
    }
   ],
   "source": [
    "prop.shape[0] /GTD_full.shape[0]"
   ]
  },
  {
   "cell_type": "code",
   "execution_count": 18,
   "metadata": {},
   "outputs": [
    {
     "data": {
      "text/html": [
       "<div>\n",
       "<style scoped>\n",
       "    .dataframe tbody tr th:only-of-type {\n",
       "        vertical-align: middle;\n",
       "    }\n",
       "\n",
       "    .dataframe tbody tr th {\n",
       "        vertical-align: top;\n",
       "    }\n",
       "\n",
       "    .dataframe thead th {\n",
       "        text-align: right;\n",
       "    }\n",
       "</style>\n",
       "<table border=\"1\" class=\"dataframe\">\n",
       "  <thead>\n",
       "    <tr style=\"text-align: right;\">\n",
       "      <th></th>\n",
       "      <th>eventid</th>\n",
       "      <th>iyear</th>\n",
       "      <th>imonth</th>\n",
       "      <th>country_txt</th>\n",
       "      <th>scite1</th>\n",
       "      <th>scite2</th>\n",
       "      <th>scite3</th>\n",
       "    </tr>\n",
       "  </thead>\n",
       "  <tbody>\n",
       "    <tr>\n",
       "      <td>50994</td>\n",
       "      <td>199204100007</td>\n",
       "      <td>1992</td>\n",
       "      <td>4</td>\n",
       "      <td>United Kingdom</td>\n",
       "      <td>NaN</td>\n",
       "      <td>NaN</td>\n",
       "      <td>NaN</td>\n",
       "    </tr>\n",
       "    <tr>\n",
       "      <td>62649</td>\n",
       "      <td>199606150004</td>\n",
       "      <td>1996</td>\n",
       "      <td>6</td>\n",
       "      <td>United Kingdom</td>\n",
       "      <td>\"1996: Huge explosion rocks central Manchester,\" BBC News, On This Day 1959-2005, June 15.</td>\n",
       "      <td>James Cusick, \"The Manchester Bombing: Device was as big as anything to hit mainland Britain,\" The Independent, June 17, 1996.</td>\n",
       "      <td>\"Manchester bomb: no justice,\" BBC, June 15, 2006.</td>\n",
       "    </tr>\n",
       "    <tr>\n",
       "      <td>73137</td>\n",
       "      <td>200109110004</td>\n",
       "      <td>2001</td>\n",
       "      <td>9</td>\n",
       "      <td>United States</td>\n",
       "      <td>United States Government, The 9/11 Commission Report: Final Report of the National Commission on Terrorist Attacks Upon the United States. Washington, DC: Government Printing Office, 2004.</td>\n",
       "      <td>Lindsay Kines, “United States on high alert after thousands feared dead: Airlines initially blame hijackers for attacks on the Pentagon in Washington, New York's World Trade Center,” The Vancouver Sun, September 11, 2001.</td>\n",
       "      <td>Joe Frolick, “Hijackers Ram Two Airliners Into World Trade Center, Third Plane Slams Into Pentagon, Fourth Crashes Near Pittsburgh; Thousands Die; Bush Vows Swift Revenge,” The Plain Dealer, September 12, 2001.</td>\n",
       "    </tr>\n",
       "    <tr>\n",
       "      <td>73138</td>\n",
       "      <td>200109110005</td>\n",
       "      <td>2001</td>\n",
       "      <td>9</td>\n",
       "      <td>United States</td>\n",
       "      <td>United States Government, The 9/11 Commission Report: Final Report of the National Commission on Terrorist Attacks Upon the United States. Washington, DC: Government Printing Office, 2004.</td>\n",
       "      <td>Lindsay Kines, “United States on high alert after thousands feared dead: Airlines initially blame hijackers for attacks on the Pentagon in Washington, New York's World Trade Center,” The Vancouver Sun, September 11, 2001.</td>\n",
       "      <td>Joe Frolick, “Hijackers Ram Two Airliners Into World Trade Center, Third Plane Slams Into Pentagon, Fourth Crashes Near Pittsburgh; Thousands Die; Bush Vows Swift Revenge,” The Plain Dealer, September 12, 2001.</td>\n",
       "    </tr>\n",
       "    <tr>\n",
       "      <td>73139</td>\n",
       "      <td>200109110006</td>\n",
       "      <td>2001</td>\n",
       "      <td>9</td>\n",
       "      <td>United States</td>\n",
       "      <td>United States Government, The 9/11 Commission Report: Final Report of the National Commission on Terrorist Attacks Upon the United States. Washington, DC: Government Printing Office, 2004.</td>\n",
       "      <td>Lindsay Kines, “United States on high alert after thousands feared dead: Airlines initially blame hijackers for attacks on the Pentagon in Washington, New York's World Trade Center,” The Vancouver Sun, September 11, 2001.</td>\n",
       "      <td>\"Plane Crashes Into Pentagon; Troops Deployed in Response,\" Associated Press, September 11, 2001.</td>\n",
       "    </tr>\n",
       "    <tr>\n",
       "      <td>73140</td>\n",
       "      <td>200109110007</td>\n",
       "      <td>2001</td>\n",
       "      <td>9</td>\n",
       "      <td>United States</td>\n",
       "      <td>United States Government, The 9/11 Commission Report: Final Report of the National Commission on Terrorist Attacks Upon the United States. Washington, DC: Government Printing Office, 2004.</td>\n",
       "      <td>Lindsay Kines, “United States on high alert after thousands feared dead: Airlines initially blame hijackers for attacks on the Pentagon in Washington, New York's World Trade Center,” The Vancouver Sun, September 11, 2001.</td>\n",
       "      <td>“Plane Crashes Into Pentagon; Troops Deployed in Response,” Associated Press, September 11, 2001.</td>\n",
       "    </tr>\n",
       "  </tbody>\n",
       "</table>\n",
       "</div>"
      ],
      "text/plain": [
       "            eventid  iyear  imonth     country_txt  \\\n",
       "50994  199204100007  1992   4       United Kingdom   \n",
       "62649  199606150004  1996   6       United Kingdom   \n",
       "73137  200109110004  2001   9       United States    \n",
       "73138  200109110005  2001   9       United States    \n",
       "73139  200109110006  2001   9       United States    \n",
       "73140  200109110007  2001   9       United States    \n",
       "\n",
       "                                                                                                                                                                                             scite1  \\\n",
       "50994  NaN                                                                                                                                                                                            \n",
       "62649  \"1996: Huge explosion rocks central Manchester,\" BBC News, On This Day 1959-2005, June 15.                                                                                                     \n",
       "73137  United States Government, The 9/11 Commission Report: Final Report of the National Commission on Terrorist Attacks Upon the United States. Washington, DC: Government Printing Office, 2004.   \n",
       "73138  United States Government, The 9/11 Commission Report: Final Report of the National Commission on Terrorist Attacks Upon the United States. Washington, DC: Government Printing Office, 2004.   \n",
       "73139  United States Government, The 9/11 Commission Report: Final Report of the National Commission on Terrorist Attacks Upon the United States. Washington, DC: Government Printing Office, 2004.   \n",
       "73140  United States Government, The 9/11 Commission Report: Final Report of the National Commission on Terrorist Attacks Upon the United States. Washington, DC: Government Printing Office, 2004.   \n",
       "\n",
       "                                                                                                                                                                                                                              scite2  \\\n",
       "50994  NaN                                                                                                                                                                                                                             \n",
       "62649  James Cusick, \"The Manchester Bombing: Device was as big as anything to hit mainland Britain,\" The Independent, June 17, 1996.                                                                                                  \n",
       "73137  Lindsay Kines, “United States on high alert after thousands feared dead: Airlines initially blame hijackers for attacks on the Pentagon in Washington, New York's World Trade Center,” The Vancouver Sun, September 11, 2001.   \n",
       "73138  Lindsay Kines, “United States on high alert after thousands feared dead: Airlines initially blame hijackers for attacks on the Pentagon in Washington, New York's World Trade Center,” The Vancouver Sun, September 11, 2001.   \n",
       "73139  Lindsay Kines, “United States on high alert after thousands feared dead: Airlines initially blame hijackers for attacks on the Pentagon in Washington, New York's World Trade Center,” The Vancouver Sun, September 11, 2001.   \n",
       "73140  Lindsay Kines, “United States on high alert after thousands feared dead: Airlines initially blame hijackers for attacks on the Pentagon in Washington, New York's World Trade Center,” The Vancouver Sun, September 11, 2001.   \n",
       "\n",
       "                                                                                                                                                                                                                   scite3  \n",
       "50994  NaN                                                                                                                                                                                                                 \n",
       "62649  \"Manchester bomb: no justice,\" BBC, June 15, 2006.                                                                                                                                                                  \n",
       "73137  Joe Frolick, “Hijackers Ram Two Airliners Into World Trade Center, Third Plane Slams Into Pentagon, Fourth Crashes Near Pittsburgh; Thousands Die; Bush Vows Swift Revenge,” The Plain Dealer, September 12, 2001.  \n",
       "73138  Joe Frolick, “Hijackers Ram Two Airliners Into World Trade Center, Third Plane Slams Into Pentagon, Fourth Crashes Near Pittsburgh; Thousands Die; Bush Vows Swift Revenge,” The Plain Dealer, September 12, 2001.  \n",
       "73139  \"Plane Crashes Into Pentagon; Troops Deployed in Response,\" Associated Press, September 11, 2001.                                                                                                                   \n",
       "73140  “Plane Crashes Into Pentagon; Troops Deployed in Response,” Associated Press, September 11, 2001.                                                                                                                   "
      ]
     },
     "execution_count": 18,
     "metadata": {},
     "output_type": "execute_result"
    }
   ],
   "source": [
    "pd.set_option('display.max_colwidth', -1)\n",
    "t = prop[prop.propextent == 1] \n",
    "t[['eventid', 'iyear','imonth','country_txt','scite1', 'scite2','scite3']]"
   ]
  },
  {
   "cell_type": "code",
   "execution_count": 19,
   "metadata": {},
   "outputs": [],
   "source": [
    "def calc(row):\n",
    "    if row['PropertDamage'] == 1.0:\n",
    "        return ' Catastrophic (likely ≥ $1 billion)'\n",
    "    elif row['PropertDamage'] == 2.0:\n",
    "        return ' Major (likely ≥ $1 million but < $1 billion)'\n",
    "    elif row['PropertDamage'] == 3.0:\n",
    "        return 'Minor (likely < $1 million)'\n",
    "    else: \n",
    "        return 'Unknown'\n",
    "    \n",
    "prop = prop.groupby(['propextent']).agg({'eventid':'count', 'propvalue' : 'sum'}).reset_index()\n",
    "prop = prop.rename(columns={'propextent' : 'PropertDamage',\n",
    "                            'eventid' :'Attacks',\n",
    "                           'propvalue': 'PropertyValue'})\n",
    "# prop['PropertDamage'].rename_categories({'1.0': 'Catastrophic', '2.0': 'Major',  '3.0': 'Minor' ,'4.0': 'Unknown'})\n",
    "prop['Attacks_Percent'] = prop['Attacks']*100/prop['Attacks'].sum()\n",
    "prop['category'] = prop.apply(lambda row: calc(row), axis=1)\n",
    "prop['angle'] = prop['Attacks_Percent']/prop['Attacks_Percent'].sum() * 2*pi\n",
    "x=prop['category'].value_counts()\n",
    "prop['color'] = Category10[len(x)]"
   ]
  },
  {
   "cell_type": "code",
   "execution_count": 20,
   "metadata": {},
   "outputs": [
    {
     "data": {
      "text/html": [
       "<div>\n",
       "<style scoped>\n",
       "    .dataframe tbody tr th:only-of-type {\n",
       "        vertical-align: middle;\n",
       "    }\n",
       "\n",
       "    .dataframe tbody tr th {\n",
       "        vertical-align: top;\n",
       "    }\n",
       "\n",
       "    .dataframe thead th {\n",
       "        text-align: right;\n",
       "    }\n",
       "</style>\n",
       "<table border=\"1\" class=\"dataframe\">\n",
       "  <thead>\n",
       "    <tr style=\"text-align: right;\">\n",
       "      <th></th>\n",
       "      <th>PropertDamage</th>\n",
       "      <th>Attacks</th>\n",
       "      <th>PropertyValue</th>\n",
       "      <th>Attacks_Percent</th>\n",
       "      <th>category</th>\n",
       "      <th>angle</th>\n",
       "      <th>color</th>\n",
       "    </tr>\n",
       "  </thead>\n",
       "  <tbody>\n",
       "    <tr>\n",
       "      <td>0</td>\n",
       "      <td>1.000</td>\n",
       "      <td>6</td>\n",
       "      <td>3779120000.000</td>\n",
       "      <td>0.009</td>\n",
       "      <td>Catastrophic (likely ≥ $1 billion)</td>\n",
       "      <td>0.001</td>\n",
       "      <td>#1f77b4</td>\n",
       "    </tr>\n",
       "    <tr>\n",
       "      <td>1</td>\n",
       "      <td>2.000</td>\n",
       "      <td>915</td>\n",
       "      <td>3866989276.840</td>\n",
       "      <td>1.432</td>\n",
       "      <td>Major (likely ≥ $1 million but &lt; $1 billion)</td>\n",
       "      <td>0.090</td>\n",
       "      <td>#ff7f0e</td>\n",
       "    </tr>\n",
       "    <tr>\n",
       "      <td>2</td>\n",
       "      <td>3.000</td>\n",
       "      <td>45593</td>\n",
       "      <td>503265607.710</td>\n",
       "      <td>71.371</td>\n",
       "      <td>Minor (likely &lt; $1 million)</td>\n",
       "      <td>4.484</td>\n",
       "      <td>#2ca02c</td>\n",
       "    </tr>\n",
       "    <tr>\n",
       "      <td>3</td>\n",
       "      <td>4.000</td>\n",
       "      <td>17368</td>\n",
       "      <td>6654755.000</td>\n",
       "      <td>27.188</td>\n",
       "      <td>Unknown</td>\n",
       "      <td>1.708</td>\n",
       "      <td>#d62728</td>\n",
       "    </tr>\n",
       "  </tbody>\n",
       "</table>\n",
       "</div>"
      ],
      "text/plain": [
       "   PropertDamage  Attacks  PropertyValue  Attacks_Percent  \\\n",
       "0 1.000           6       3779120000.000 0.009              \n",
       "1 2.000           915     3866989276.840 1.432              \n",
       "2 3.000           45593   503265607.710  71.371             \n",
       "3 4.000           17368   6654755.000    27.188             \n",
       "\n",
       "                                        category  angle    color  \n",
       "0   Catastrophic (likely ≥ $1 billion)           0.001   #1f77b4  \n",
       "1   Major (likely ≥ $1 million but < $1 billion) 0.090   #ff7f0e  \n",
       "2  Minor (likely < $1 million)                   4.484   #2ca02c  \n",
       "3  Unknown                                       1.708   #d62728  "
      ]
     },
     "execution_count": 20,
     "metadata": {},
     "output_type": "execute_result"
    }
   ],
   "source": [
    "prop"
   ]
  },
  {
   "cell_type": "code",
   "execution_count": null,
   "metadata": {},
   "outputs": [],
   "source": [
    "output_file(\"/Users/poonamarora/Desktop/Aleph/Pictures/html/PropertyDamage.html\")\n",
    "\n",
    "p10 = figure(plot_height=550, toolbar_location=None,\n",
    "           tools=\"hover\", tooltips=\"@category: @Attacks_Percent{0.2f} %\", x_range=(-.5, .5),\n",
    "           title = \"Property damage due to Terrorist activities(1970-2018)\")\n",
    "\n",
    "# p10.annular_wedge(x=0, y=1,  inner_radius=0.15, outer_radius=0.25, direction=\"anticlock\",\n",
    "#                 start_angle=cumsum('angle', include_zero=True), end_angle=cumsum('angle'),\n",
    "#         line_color=\"white\", fill_color='color', legend='category',source=prop, alpha = 0.7)\n",
    "\n",
    "p10.wedge(x=0, y=1, radius=0.30, direction=\"anticlock\",\n",
    "                start_angle=cumsum('angle', include_zero=True), end_angle=cumsum('angle'),\n",
    "        line_color=\"white\", fill_color='color', legend='category',source=prop, alpha = 0.6)\n",
    "\n",
    "\n",
    "p10.legend.label_text_font_size = \"5pt\"\n",
    "p10.axis.axis_label=None\n",
    "p10.axis.visible=False\n",
    "p10.grid.grid_line_color = None\n",
    "p10.legend.location = \"top_left\"\n",
    "p10.legend.orientation = \"vertical\"\n",
    "p10.legend.click_policy='mute'\n",
    "show(p10) "
   ]
  },
  {
   "cell_type": "markdown",
   "metadata": {},
   "source": [
    "### Hostage events over the world"
   ]
  },
  {
   "cell_type": "code",
   "execution_count": null,
   "metadata": {},
   "outputs": [],
   "source": [
    "hstg = GTD[GTD.ishostkid == 1]\n",
    "hstg.shape"
   ]
  },
  {
   "cell_type": "code",
   "execution_count": null,
   "metadata": {},
   "outputs": [],
   "source": [
    "hstg.shape[0]/GTD.shape[0]"
   ]
  },
  {
   "cell_type": "code",
   "execution_count": null,
   "metadata": {},
   "outputs": [],
   "source": []
  },
  {
   "cell_type": "code",
   "execution_count": null,
   "metadata": {},
   "outputs": [],
   "source": []
  },
  {
   "cell_type": "code",
   "execution_count": null,
   "metadata": {},
   "outputs": [],
   "source": []
  },
  {
   "cell_type": "code",
   "execution_count": null,
   "metadata": {},
   "outputs": [],
   "source": []
  },
  {
   "cell_type": "code",
   "execution_count": null,
   "metadata": {},
   "outputs": [],
   "source": []
  },
  {
   "cell_type": "code",
   "execution_count": null,
   "metadata": {},
   "outputs": [],
   "source": []
  },
  {
   "cell_type": "markdown",
   "metadata": {},
   "source": [
    "### Citywise terror attacks"
   ]
  },
  {
   "cell_type": "code",
   "execution_count": null,
   "metadata": {},
   "outputs": [],
   "source": [
    "Country = GTD_full.groupby(['country_txt']).agg({'eventid' : 'count', 'nkill' :'sum', 'nwound' :'sum'}).reset_index()\n",
    "Country = Country.rename(columns = {'country_txt' : 'Country',\n",
    "                                    'eventid' : 'Attacks'})\n",
    "Country['CN_Attacks_Percent'] = Country['Attacks']*100/Country['Attacks'].sum()\n",
    "Country = Country[Country.CN_Attacks_Percent >= 2.0]\n",
    "Country"
   ]
  },
  {
   "cell_type": "code",
   "execution_count": null,
   "metadata": {},
   "outputs": [],
   "source": [
    "Troubled_countries = Country.Country.tolist()\n",
    "Troubled_countries"
   ]
  },
  {
   "cell_type": "code",
   "execution_count": null,
   "metadata": {},
   "outputs": [],
   "source": [
    "City = GTD_full[['eventid', 'city','country_txt','iyear','attacktype1_txt','targtype1_txt', 'nkill']]\n",
    "City = City[(City.country_txt.isin(Troubled_countries)) & (City.attacktype1_txt != 'Unknown')]\n",
    "City.shape"
   ]
  },
  {
   "cell_type": "code",
   "execution_count": null,
   "metadata": {},
   "outputs": [],
   "source": [
    "City.columns"
   ]
  },
  {
   "cell_type": "code",
   "execution_count": null,
   "metadata": {},
   "outputs": [],
   "source": [
    "City.head()"
   ]
  },
  {
   "cell_type": "code",
   "execution_count": null,
   "metadata": {},
   "outputs": [],
   "source": [
    "City_CN = City.groupby(['country_txt', 'attacktype1_txt', 'iyear']).agg({'eventid' : 'count', 'nkill' :'sum'}).reset_index()\n",
    "City_CN = City_CN.rename(columns = {'country_txt' : 'Country',\n",
    "                             'eventid' : 'Attacks',\n",
    "                             'nkill' : 'Fatalities'})\n",
    "# City_CN['CN_Attacks_Percent'] = City_CN['Attacks']*100/City_CN['Attacks'].sum()\n",
    "# City_CN['Cn_Fatalities_Percent'] = City_CN['Fatalities']*100/City_CN['Fatalities'].sum()\n",
    "City_CN['Attacks'] = np.log(City_CN['Attacks'])\n",
    "City_CN['Fatalities'] = np.log(City_CN['Fatalities'])\n",
    "City_CN"
   ]
  },
  {
   "cell_type": "code",
   "execution_count": null,
   "metadata": {},
   "outputs": [],
   "source": [
    "### HeatMap\n",
    "source = ColumnDataSource(City_CN)\n",
    "\n",
    "# this is the colormap from the original NYTimes plot\n",
    "colors = [\"#75968f\", \"#a5bab7\", \"#c9d9d3\", \"#e2e2e2\", \"#dfccce\", \"#ddb7b1\", \"#cc7878\", \"#933b41\", \"#550b1d\"]\n",
    "mapper = LinearColorMapper(palette=colors, low=City_CN.Attacks.min(), high=City_CN.Attacks.max())\n",
    "\n",
    "p12 = figure(plot_width=800, plot_height=300, title=\"Terrorist Activities in most troubled countries\",\n",
    "           x_range=list(City_CN.Country.unique()), y_range=list(City_CN.attacktype1_txt.unique()),\n",
    "           toolbar_location=None, tools=\"\", x_axis_location=\"above\")\n",
    "\n",
    "p12.rect(x=\"Country\", y=\"attacktype1_txt\", width=1, height=1, source=source,\n",
    "       line_color=None, fill_color=transform('Attacks', mapper))\n",
    "\n",
    "color_bar = ColorBar(color_mapper=mapper, location=(0, 0),\n",
    "                     ticker=BasicTicker(desired_num_ticks=len(colors)),\n",
    "                     formatter=PrintfTickFormatter(format=\"%.1f\"))\n",
    "\n",
    "p12.add_layout(color_bar, 'right')\n",
    "\n",
    "p12.axis.axis_line_color = None\n",
    "p12.axis.major_tick_line_color = None\n",
    "p12.axis.major_label_text_font_size = \"7pt\"\n",
    "p12.axis.major_label_standoff = 0\n",
    "p12.xaxis.major_label_orientation = 1.0\n",
    "hover = HoverTool(tooltips = [\n",
    "    ('Year', '@iyear'),\n",
    "    ('Country', '@Country'),\n",
    "    ('Attack Type', '@attacktype1_txt'),\n",
    "    ('Global Events', '@Attacks')])\n",
    "\n",
    "p12.add_tools(hover)\n",
    "def update_plot(attr, old, new):\n",
    "    yr = slider.value\n",
    "    new_data = City_CN['iyear']\n",
    "    p.title.text = 'Terrorist Activities, %d' %yr\n",
    "    \n",
    "    \n",
    "slider = Slider(title = 'Year',start = 1970, end = 2018, step = 1, value = 2001)\n",
    "slider.on_change('value', update_plot)\n",
    "\n",
    "layout = column(p12,widgetbox(slider))\n",
    "curdoc().add_root(layout)\n",
    "# #Display plot inline in Jupyter notebook\n",
    "output_notebook()\n",
    "# #Display plot\n",
    "show(layout)"
   ]
  },
  {
   "cell_type": "code",
   "execution_count": null,
   "metadata": {},
   "outputs": [],
   "source": []
  },
  {
   "cell_type": "code",
   "execution_count": null,
   "metadata": {},
   "outputs": [],
   "source": [
    "GTD_full = pd.read_pickle(\"/Users/poonamarora/Desktop/Aleph/Datasets/GTD_Dataset.pkl\")\n",
    "\n",
    "Country = GTD_full.groupby(['country_txt']).agg({'eventid' : 'count', 'nkill' :'sum', 'nwound' :'sum'}).reset_index()\n",
    "Country = Country.rename(columns = {'country_txt' : 'Country',\n",
    "                                    'eventid' : 'Attacks'})\n",
    "Country['CN_Attacks_Percent'] = Country['Attacks']*100/Country['Attacks'].sum()\n",
    "Country = Country[Country.CN_Attacks_Percent >= 2.0]\n",
    "\n",
    "# Country\n",
    "Troubled_countries = Country.Country.tolist()\n",
    "\n",
    "City = GTD_full[['eventid', 'city','country_txt','iyear','attacktype1_txt','targtype1_txt']]\n",
    "City = City[(City.country_txt.isin(Troubled_countries)) & (City.attacktype1_txt != 'Unknown')]\n",
    "# City.shape\n",
    "\n",
    "City_CN = City.groupby(['country_txt', 'attacktype1_txt', 'iyear']).agg({'eventid' : 'count'}).reset_index()\n",
    "City_CN = City_CN.rename(columns = {'country_txt' : 'Country',\n",
    "                             'eventid' : 'Attacks'})\n",
    "City_CN['Attacks'] = np.log(City_CN['Attacks'])\n",
    "# City_CN['Fatalities'] = np.log(City_CN['Fatalities'])\n"
   ]
  },
  {
   "cell_type": "code",
   "execution_count": null,
   "metadata": {},
   "outputs": [],
   "source": [
    "City_CN"
   ]
  },
  {
   "cell_type": "code",
   "execution_count": null,
   "metadata": {},
   "outputs": [],
   "source": [
    "def data(selectedYear):\n",
    "    yr= selectedYear\n",
    "    city_data = City_CN[City_CN.iyear == yr]\n",
    "    return(city_data)"
   ]
  },
  {
   "cell_type": "code",
   "execution_count": null,
   "metadata": {},
   "outputs": [],
   "source": [
    "data(1993)"
   ]
  },
  {
   "cell_type": "code",
   "execution_count": null,
   "metadata": {},
   "outputs": [],
   "source": [
    "GTD[GTD.iyear == 1993]"
   ]
  },
  {
   "cell_type": "code",
   "execution_count": null,
   "metadata": {},
   "outputs": [],
   "source": []
  },
  {
   "cell_type": "code",
   "execution_count": null,
   "metadata": {},
   "outputs": [],
   "source": [
    "GTD.attacktype1_txt.unique()"
   ]
  },
  {
   "cell_type": "code",
   "execution_count": null,
   "metadata": {},
   "outputs": [],
   "source": [
    "# from bokeh.io import show, output_file\n",
    "# from bokeh.models import ColumnDataSource, FactorRange\n",
    "# from bokeh.plotting import figure\n",
    "# from bokeh.transform import factor_cmap\n",
    "\n",
    "# countries = list(City_CN.Country.unique())\n",
    "# attacktype = list(City_CN.attacktype1_txt.unique())\n",
    "\n",
    "# palette = [\"#c9d9d3\", \"#718dbf\", \"#e84d60\",\"#c9d9d3\", \"#e2e2e2\", \"#dfccce\", \"#ddb7b1\", \"#cc7878\"]\n",
    "\n",
    "# x = [(a, b) for a in countries for b in attacktype ]\n",
    "# counts = list(City_CN.Cn_Fatalities_Percent) # like an hstack\n",
    "\n",
    "# source = ColumnDataSource(data=dict(x=x, counts=counts))\n",
    "\n",
    "# p = figure(x_range=FactorRange(*x), plot_height=350, title=\"Terror\",\n",
    "#            toolbar_location=None, tools=\"\")\n",
    "\n",
    "# p.vbar(x='x', top='counts', width=1, source=source, line_color=\"white\",\n",
    "#        fill_color=factor_cmap('x', palette=palette, factors=attacktype, start=1, end=7))\n",
    "\n",
    "# p.y_range.start = 0\n",
    "# p.x_range.range_padding = 0.1\n",
    "# p.xaxis.major_label_orientation = 1\n",
    "# p.xgrid.grid_line_color = None\n",
    "\n",
    "# show(p)"
   ]
  },
  {
   "cell_type": "code",
   "execution_count": null,
   "metadata": {},
   "outputs": [],
   "source": [
    "GTD.attacktype2_txt.unique()"
   ]
  },
  {
   "cell_type": "code",
   "execution_count": null,
   "metadata": {},
   "outputs": [],
   "source": [
    "GTD.attacktype3_txt.unique()"
   ]
  },
  {
   "cell_type": "code",
   "execution_count": null,
   "metadata": {},
   "outputs": [],
   "source": [
    "GTD.targtype1_txt.unique()"
   ]
  },
  {
   "cell_type": "code",
   "execution_count": null,
   "metadata": {},
   "outputs": [],
   "source": [
    "GTD.targtype2_txt.unique()"
   ]
  },
  {
   "cell_type": "code",
   "execution_count": null,
   "metadata": {},
   "outputs": [],
   "source": [
    "GTD.city.unique()"
   ]
  },
  {
   "cell_type": "code",
   "execution_count": null,
   "metadata": {},
   "outputs": [],
   "source": [
    "GTD.weaptype1_txt.unique()"
   ]
  },
  {
   "cell_type": "code",
   "execution_count": null,
   "metadata": {},
   "outputs": [],
   "source": []
  },
  {
   "cell_type": "code",
   "execution_count": null,
   "metadata": {},
   "outputs": [],
   "source": [
    "# make a grid\n",
    "grid = gridplot([[p1, p2], [p3, p4]], plot_width=500, plot_height=500)\n",
    "show(grid)"
   ]
  },
  {
   "cell_type": "code",
   "execution_count": null,
   "metadata": {},
   "outputs": [],
   "source": []
  },
  {
   "cell_type": "code",
   "execution_count": null,
   "metadata": {},
   "outputs": [],
   "source": []
  },
  {
   "cell_type": "code",
   "execution_count": null,
   "metadata": {},
   "outputs": [],
   "source": []
  },
  {
   "cell_type": "code",
   "execution_count": null,
   "metadata": {},
   "outputs": [],
   "source": []
  }
 ],
 "metadata": {
  "kernelspec": {
   "display_name": "Python 3",
   "language": "python",
   "name": "python3"
  },
  "language_info": {
   "codemirror_mode": {
    "name": "ipython",
    "version": 3
   },
   "file_extension": ".py",
   "mimetype": "text/x-python",
   "name": "python",
   "nbconvert_exporter": "python",
   "pygments_lexer": "ipython3",
   "version": "3.7.4"
  }
 },
 "nbformat": 4,
 "nbformat_minor": 2
}
